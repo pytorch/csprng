{
  "nbformat": 4,
  "nbformat_minor": 0,
  "metadata": {
    "colab": {
      "name": "encrypt_decrypt.ipynb",
      "provenance": [],
      "collapsed_sections": []
    },
    "kernelspec": {
      "name": "python3",
      "display_name": "Python 3"
    }
  },
  "cells": [
    {
      "cell_type": "markdown",
      "metadata": {
        "id": "4JG-7IJgz_dK"
      },
      "source": [
        "# PyTorch/CSPRNG encrypt/decrypt examples"
      ]
    },
    {
      "cell_type": "markdown",
      "metadata": {
        "id": "H8TZemj30JvQ"
      },
      "source": [
        "torchcsprng 0.2.0 exposes new API for tensor encryption/decryption. Tensor encryption/decryption API is dtype agnostic, so a tensor of any dtype can be encrypted and the result can be stored to a tensor of any dtype. An encryption key also can be a tensor of any dtype. Currently torchcsprng supports AES cipher with 128-bit key in two modes: ECB and CTR."
      ]
    },
    {
      "cell_type": "code",
      "metadata": {
        "id": "jC1O-C25vI0W"
      },
      "source": [
        "!pip install torchcsprng==0.2.0 torch==1.8.0 -f https://download.pytorch.org/whl/cu102/torch_stable.html"
      ],
      "execution_count": null,
      "outputs": []
    },
    {
      "cell_type": "code",
      "metadata": {
        "id": "su2RWWdOrWFU"
      },
      "source": [
        "import torch\n",
        "import torchcsprng as csprng"
      ],
      "execution_count": null,
      "outputs": []
    },
    {
      "cell_type": "code",
      "metadata": {
        "id": "NHTOLPZ_3254"
      },
      "source": [
        "device = torch.device('cuda' if torch.cuda.is_available() else 'cpu')"
      ],
      "execution_count": null,
      "outputs": []
    },
    {
      "cell_type": "markdown",
      "metadata": {
        "id": "17L0sgmy0R6o"
      },
      "source": [
        "torchcsprng implementation of AES with 128 bit key requires to have a key tensor of 16 bytes but of any dtype"
      ]
    },
    {
      "cell_type": "code",
      "metadata": {
        "id": "rw7WYZ-50To9"
      },
      "source": [
        "key = torch.empty(16, dtype=torch.uint8, device=device).random_(0, 256)\n",
        "key"
      ],
      "execution_count": null,
      "outputs": []
    },
    {
      "cell_type": "markdown",
      "metadata": {
        "id": "RRfvyfHM4MY1"
      },
      "source": [
        "Alternatively it can be a tensor of 8 elements of `torch.int16` or even 4 elements of `torch.float32`"
      ]
    },
    {
      "cell_type": "markdown",
      "metadata": {
        "id": "rCy01t1-0dtO"
      },
      "source": [
        "The size of input tensor is 42 * (32/8) = 168 bytes. AES 128 operates with 16-bytes blocks, so zero-padding of 8 bytes will be used to form 176 bytes(eleven 16-bytes blocks)"
      ]
    },
    {
      "cell_type": "code",
      "metadata": {
        "id": "LcuVmhyU0WTn"
      },
      "source": [
        "initial = torch.empty(42, dtype=torch.float32, device=device).normal_(-24.0, 42.0)\n",
        "initial"
      ],
      "execution_count": null,
      "outputs": []
    },
    {
      "cell_type": "markdown",
      "metadata": {
        "id": "rPNq2u4e3tlJ"
      },
      "source": [
        "torchcsprng requires output tensor to be of the same size in bytes as input tensor rounded up to 16 bytes(AES 128 block size), so if `torch.int64` is dtype of the destination tensor size must be 176 / (64/8) = 22"
      ]
    },
    {
      "cell_type": "code",
      "metadata": {
        "id": "RAJya9GT0gb4"
      },
      "source": [
        "encrypted = torch.empty(22, dtype=torch.int64, device=device)"
      ],
      "execution_count": null,
      "outputs": []
    },
    {
      "cell_type": "markdown",
      "metadata": {
        "id": "-DCI4QOh4oGX"
      },
      "source": [
        "Call `torchcsprng.encrypt` to encrypt `initial` tensor in [ECB](https://en.wikipedia.org/wiki/Block_cipher_mode_of_operation#Electronic_codebook_(ECB)) mode with 128-bit `key` tensor and store the result to `encrypted` tensor."
      ]
    },
    {
      "cell_type": "code",
      "metadata": {
        "id": "TK4OjPRq4lsJ"
      },
      "source": [
        "csprng.encrypt(initial, encrypted, key, \"aes128\", \"ecb\")"
      ],
      "execution_count": null,
      "outputs": []
    },
    {
      "cell_type": "markdown",
      "metadata": {
        "id": "yXUAwFHh5PSy"
      },
      "source": [
        "Create an output tensor"
      ]
    },
    {
      "cell_type": "code",
      "metadata": {
        "id": "4LtJ-kD446DJ"
      },
      "source": [
        "decrypted = torch.empty_like(initial)"
      ],
      "execution_count": null,
      "outputs": []
    },
    {
      "cell_type": "markdown",
      "metadata": {
        "id": "8VcF04mf6Rn5"
      },
      "source": [
        "Call `torchcsprng.decrypt` to decrypt `encrypted` tensor in ECB mode with 128-bit `key` tensor and store the result to `decrypted` tensor."
      ]
    },
    {
      "cell_type": "code",
      "metadata": {
        "id": "kojXCFGK5v6l"
      },
      "source": [
        "csprng.decrypt(encrypted, decrypted, key, \"aes128\", \"ecb\")"
      ],
      "execution_count": null,
      "outputs": []
    },
    {
      "cell_type": "markdown",
      "metadata": {
        "id": "9dEBSPD6EFSu"
      },
      "source": [
        "Let's check that `decrypted` equals to `initial`:"
      ]
    },
    {
      "cell_type": "code",
      "metadata": {
        "id": "yOc1ftnM5yyj"
      },
      "source": [
        "assert (decrypted == initial).all()"
      ],
      "execution_count": null,
      "outputs": []
    },
    {
      "cell_type": "markdown",
      "metadata": {
        "id": "cQWyteLlE4mQ"
      },
      "source": [
        "Another example is to use [CTR](https://en.wikipedia.org/wiki/Block_cipher_mode_of_operation#Counter_(CTR)) mode with 128-bit `key` tensor of 4 elements of dtype `dtype=torch.float32`:"
      ]
    },
    {
      "cell_type": "code",
      "metadata": {
        "id": "ZFInqYawD7ks"
      },
      "source": [
        "key = torch.empty(4, dtype=torch.float32, device=device).random_()\n",
        "key"
      ],
      "execution_count": null,
      "outputs": []
    },
    {
      "cell_type": "markdown",
      "metadata": {
        "id": "FRz94NaZGyRS"
      },
      "source": [
        "Let's encrypt 100 elements `torch.bool` tensor and store the result in 56 elements `torch.int16` tensor:"
      ]
    },
    {
      "cell_type": "code",
      "metadata": {
        "id": "8uiqxiehF_is"
      },
      "source": [
        "initial = torch.empty(100, dtype=torch.bool, device=device).random_()\n",
        "initial"
      ],
      "execution_count": null,
      "outputs": []
    },
    {
      "cell_type": "code",
      "metadata": {
        "id": "G0URlmQYGfcW"
      },
      "source": [
        "encrypted = torch.empty(56, dtype=torch.int16, device=device)\n",
        "csprng.encrypt(initial, encrypted, key, \"aes128\", \"ctr\")"
      ],
      "execution_count": null,
      "outputs": []
    },
    {
      "cell_type": "markdown",
      "metadata": {
        "id": "U9Zz2oXoHw9Q"
      },
      "source": [
        "Decrypt it back and check that `decrypted` equals to `initial`:"
      ]
    },
    {
      "cell_type": "code",
      "metadata": {
        "id": "YXNcdUbXHoPC"
      },
      "source": [
        "decrypted = torch.empty_like(initial)\n",
        "csprng.decrypt(encrypted, decrypted, key, \"aes128\", \"ctr\")\n",
        "decrypted"
      ],
      "execution_count": null,
      "outputs": []
    },
    {
      "cell_type": "code",
      "metadata": {
        "id": "ie7epw1SKrdQ"
      },
      "source": [
        "assert (decrypted == initial).all()"
      ],
      "execution_count": null,
      "outputs": []
    }
  ]
}