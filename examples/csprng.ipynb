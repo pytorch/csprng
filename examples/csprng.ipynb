{
  "nbformat": 4,
  "nbformat_minor": 0,
  "metadata": {
    "colab": {
      "name": "csprng.ipynb",
      "provenance": [],
      "collapsed_sections": []
    },
    "kernelspec": {
      "name": "python3",
      "display_name": "Python 3"
    }
  },
  "cells": [
    {
      "cell_type": "markdown",
      "metadata": {
        "id": "Lpno_zUJT8ms"
      },
      "source": [
        "# Cryptographically secure pseudorandom number generators for PyTorch\n",
        "\n",
        "The torchcsprng API is available in `torchcsprng` module:\n"
      ]
    },
    {
      "cell_type": "code",
      "metadata": {
        "id": "db4YYky-PDI_"
      },
      "source": [
        "!pip install torchcsprng==0.2.0 torch==1.8.0 -f https://download.pytorch.org/whl/cu102/torch_stable.html"
      ],
      "execution_count": null,
      "outputs": []
    },
    {
      "cell_type": "code",
      "metadata": {
        "id": "O1s_j8CPPHSn"
      },
      "source": [
        "import torch\n",
        "import torchcsprng as csprng"
      ],
      "execution_count": null,
      "outputs": []
    },
    {
      "cell_type": "code",
      "metadata": {
        "id": "o1Kz25IoS9m-"
      },
      "source": [
        "device = torch.device('cuda' if torch.cuda.is_available() else 'cpu')"
      ],
      "execution_count": null,
      "outputs": []
    },
    {
      "cell_type": "markdown",
      "metadata": {
        "id": "HLlLxkDIUWCG"
      },
      "source": [
        "Create crypto-secure PRNG from /dev/urandom:"
      ]
    },
    {
      "cell_type": "code",
      "metadata": {
        "id": "yyyYlq5kUQss"
      },
      "source": [
        "urandom_gen = csprng.create_random_device_generator('/dev/urandom')"
      ],
      "execution_count": null,
      "outputs": []
    },
    {
      "cell_type": "markdown",
      "metadata": {
        "id": "xbUCnJfkUdUI"
      },
      "source": [
        "Create empty boolean tensor on the `device` and initialize it with random values from `urandom_gen`:\n"
      ]
    },
    {
      "cell_type": "code",
      "metadata": {
        "id": "zmj_VlIzUYIO"
      },
      "source": [
        "torch.empty(10, dtype=torch.bool, device=device).random_(generator=urandom_gen)"
      ],
      "execution_count": null,
      "outputs": []
    },
    {
      "cell_type": "markdown",
      "metadata": {
        "id": "ycODsYhtUud9"
      },
      "source": [
        "Create empty int16 tensor on the `device` and initialize it with random values in range [0, 100) from `urandom_gen`:"
      ]
    },
    {
      "cell_type": "code",
      "metadata": {
        "id": "uel-jbW9UlZH"
      },
      "source": [
        "torch.empty(10, dtype=torch.int16, device=device).random_(100, generator=urandom_gen)"
      ],
      "execution_count": null,
      "outputs": []
    },
    {
      "cell_type": "markdown",
      "metadata": {
        "id": "1jXW1FEmVMW_"
      },
      "source": [
        "Create non-crypto-secure MT19937 PRNG:"
      ]
    },
    {
      "cell_type": "code",
      "metadata": {
        "id": "sL-cwFGfVOrp"
      },
      "source": [
        "mt19937_gen = csprng.create_mt19937_generator()\n",
        "torch.empty(10, dtype=torch.int64, device=device).random_(torch.iinfo(torch.int64).min, to=None, generator=mt19937_gen)"
      ],
      "execution_count": null,
      "outputs": []
    },
    {
      "cell_type": "markdown",
      "metadata": {
        "id": "KW96wT4UVXBm"
      },
      "source": [
        "Create crypto-secure PRNG from default random device:"
      ]
    },
    {
      "cell_type": "code",
      "metadata": {
        "id": "tjwbuE6FVRgm"
      },
      "source": [
        "default_device_gen = csprng.create_random_device_generator()\n",
        "torch.randn(10, device=device, generator=default_device_gen)"
      ],
      "execution_count": null,
      "outputs": []
    },
    {
      "cell_type": "markdown",
      "metadata": {
        "id": "qYgdkZAYVfZT"
      },
      "source": [
        "Create non-crypto-secure MT19937 PRNG with seed:"
      ]
    },
    {
      "cell_type": "code",
      "metadata": {
        "id": "xjOsYOxxVbzg"
      },
      "source": [
        "mt19937_gen = csprng.create_mt19937_generator(42)\n",
        "first = torch.empty(10, device=device).geometric_(p=0.2, generator=mt19937_gen)"
      ],
      "execution_count": null,
      "outputs": []
    },
    {
      "cell_type": "markdown",
      "metadata": {
        "id": "cV77v7tHVlRd"
      },
      "source": [
        "Recreate MT19937 PRNG with the same seed:"
      ]
    },
    {
      "cell_type": "code",
      "metadata": {
        "id": "i0O2lC0hVjAg"
      },
      "source": [
        "mt19937_gen = csprng.create_mt19937_generator(42)\n",
        "second = torch.empty(10, device=device).geometric_(p=0.2, generator=mt19937_gen)"
      ],
      "execution_count": null,
      "outputs": []
    },
    {
      "cell_type": "markdown",
      "metadata": {
        "id": "OcgSK0mejcef"
      },
      "source": [
        "Check that `first` equals to `second`:"
      ]
    },
    {
      "cell_type": "code",
      "metadata": {
        "id": "vMx1BRO3jh7L"
      },
      "source": [
        "assert (first == second).all()"
      ],
      "execution_count": null,
      "outputs": []
    }
  ]
}